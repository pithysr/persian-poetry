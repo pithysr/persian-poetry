{
 "cells": [
  {
   "cell_type": "code",
   "execution_count": null,
   "metadata": {},
   "outputs": [],
   "source": [
    "%matplotlib inline\n",
    "import pandas as pd\n",
    "import numpy as np\n",
    "from textblob import TextBlob\n",
    "import matplotlib.pyplot as plt\n",
    "import csv\n",
    "import pickle\n",
    "import re\n",
    "import math\n",
    "import nltk\n",
    "import json\n",
    "import os\n",
    "import time\n",
    "from collections import Counter\n",
    "from bs4 import BeautifulSoup\n",
    "from requests import get\n",
    "import copy\n",
    "\n",
    "def isnotNaN(num):\n",
    "    return num == num\n",
    "\n",
    "LOCAL_PATH = '' #Original JSON file is too large for github. A CSV file is added to data/ directory"
   ]
  },
  {
   "cell_type": "code",
   "execution_count": null,
   "metadata": {},
   "outputs": [],
   "source": [
    "myl =[]\n",
    "allchars , alltokens , alltexts = [] , [] , []\n",
    "\n",
    "for k in poets.keys():\n",
    "    works = poets[k]['works']\n",
    "    l = 0\n",
    "    for w in works:\n",
    "        for pp in w[1][::2]:\n",
    "            poem_chars = pp\n",
    "            poem_tokes = poem_chars.split()\n",
    "            alltexts.append(poem_chars)\n",
    "            allchars += poem_chars\n",
    "            alltokens += poem_tokes\n",
    "            \n",
    "\n",
    "chars_counter = Counter(allchars)\n",
    "tokens_counter = Counter(alltokens)"
   ]
  },
  {
   "cell_type": "markdown",
   "metadata": {},
   "source": [
    "### unicode descriptions"
   ]
  },
  {
   "cell_type": "code",
   "execution_count": null,
   "metadata": {},
   "outputs": [],
   "source": [
    "chars_desc_replacements={}\n",
    "notfound = []\n",
    "\n",
    "for k in chars_counter.keys():\n",
    "    url = 'https://www.fileformat.info/info/unicode/char/search.htm?q='+k+'+&preview=entity'\n",
    "    html_soup = BeautifulSoup(get(url).text, 'html.parser')\n",
    "    try:\n",
    "        tab = html_soup.find_all('table', {'class': 'table table-list table-striped'})[0]\n",
    "        desc = tab.find_all('tr' , {'class':\"row0\"})[0].find_all('td')[2].text\n",
    "        chars_desc_replacements[k] = [desc , '']\n",
    "    except IndexError:\n",
    "        notfound.append(k)\n",
    "\n",
    "notfound"
   ]
  },
  {
   "cell_type": "code",
   "execution_count": null,
   "metadata": {},
   "outputs": [],
   "source": [
    "for k in chars_desc_replacements.keys():\n",
    "    chars_desc_replacements[k][1] = k"
   ]
  },
  {
   "cell_type": "markdown",
   "metadata": {},
   "source": [
    "### Char replacements"
   ]
  },
  {
   "cell_type": "code",
   "execution_count": null,
   "metadata": {},
   "outputs": [],
   "source": [
    "chars_desc_replacements = json.load(open(\"../char_replacements.dict\"))\n"
   ]
  },
  {
   "cell_type": "markdown",
   "metadata": {},
   "source": [
    "### Cleaning dataset"
   ]
  },
  {
   "cell_type": "code",
   "execution_count": null,
   "metadata": {},
   "outputs": [],
   "source": [
    "with open(LOCAL_PATH) as f:\n",
    "    poets = json.load(f)"
   ]
  },
  {
   "cell_type": "code",
   "execution_count": null,
   "metadata": {},
   "outputs": [],
   "source": [
    "duple = copy.deepcopy(poets)\n",
    "temp = { x[0] : x[1][1]  for x in chars_desc_replacements.items()}\n",
    "\n",
    "# flag=5\n",
    "for p in poets.keys():\n",
    "    print (p , poets[p]['name_fa']) \n",
    "    \n",
    "    for w_i in range(len(poets[p]['works'])): \n",
    "        duple[p]['works'][w_i][1] = []\n",
    "        for p_i, poem in enumerate(poets[p]['works'][w_i][1]):\n",
    "#             duple[p]['works'][w_i][1].append([poem, []])\n",
    "            s = re.sub(r'.', lambda m: temp.get(m.group()), poem)\n",
    "            duple[p]['works'][w_i][1].append(s)\n",
    "#     if flag:\n",
    "#         flag -= 1\n",
    "#     else:\n",
    "#         break\n",
    "    \n",
    "del temp\n",
    "\n"
   ]
  },
  {
   "cell_type": "code",
   "execution_count": null,
   "metadata": {},
   "outputs": [],
   "source": [
    "with open(LOCAL_PATH,'w') as f:\n",
    "    json.dump(duple,f)"
   ]
  }
 ],
 "metadata": {
  "kernelspec": {
   "display_name": "Python 3",
   "language": "python",
   "name": "python3"
  },
  "language_info": {
   "codemirror_mode": {
    "name": "ipython",
    "version": 3
   },
   "file_extension": ".py",
   "mimetype": "text/x-python",
   "name": "python",
   "nbconvert_exporter": "python",
   "pygments_lexer": "ipython3",
   "version": "3.7.4"
  }
 },
 "nbformat": 4,
 "nbformat_minor": 2
}
